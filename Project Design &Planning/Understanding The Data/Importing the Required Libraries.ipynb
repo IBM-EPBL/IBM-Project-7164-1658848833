{
 "cells": [
  {
   "cell_type": "code",
   "execution_count": null,
   "metadata": {},
   "outputs": [],
   "source": [
    "import numpy as np\n",
    "import tensorflow #open source used for both ML and DL for computation\n",
    "from tensorflow.keras.datasets import mnist #mnist dataset\n",
    "from tensorflow.keras.models import Sequential #it is a plain stack of layers\n",
    "from tensorflow.keras import layers #A Layer consists of a tensor- in tensor-out computat ion funct ion\n",
    "from tensorflow.keras.layers import Dense, Flatten #Dense-Dense Layer is the regular deeply connected r\n",
    "#faltten -used fot flattening the input or change the dimension\n",
    "from tensorflow.keras.layers import Conv2D #onvoLutiona l Layer\n",
    "from keras.optimizers import Adam #opt imizer\n",
    "from keras. utils import np_utils #used for one-hot encoding\n",
    "import matplotlib.pyplot as plt   #used for data visualization"
   ]
  }
 ],
 "metadata": {
  "language_info": {
   "name": "python"
  },
  "orig_nbformat": 4
 },
 "nbformat": 4,
 "nbformat_minor": 2
}
