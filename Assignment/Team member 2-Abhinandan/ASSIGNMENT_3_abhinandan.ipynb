{
  "nbformat": 4,
  "nbformat_minor": 0,
  "metadata": {
    "colab": {
      "provenance": []
    },
    "kernelspec": {
      "name": "python3",
      "display_name": "Python 3"
    },
    "language_info": {
      "name": "python"
    }
  },
  "cells": [
    {
      "cell_type": "code",
      "execution_count": null,
      "metadata": {
        "colab": {
          "base_uri": "https://localhost:8080/"
        },
        "id": "Jc6Gno2Qlc5_",
        "outputId": "f6f143b2-5418-4385-9401-67d9fd943611"
      },
      "outputs": [
        {
          "output_type": "stream",
          "name": "stdout",
          "text": [
            "Mounted at /content/drive\n"
          ]
        }
      ],
      "source": [
        "from google.colab import drive\n",
        "drive.mount('/content/drive')"
      ]
    },
    {
      "cell_type": "code",
      "source": [
        "cd /content/drive/MyDrive"
      ],
      "metadata": {
        "colab": {
          "base_uri": "https://localhost:8080/"
        },
        "id": "L9QtkbGKFZar",
        "outputId": "45482745-fa0f-45b5-cd0b-45a766cdb61b"
      },
      "execution_count": null,
      "outputs": [
        {
          "output_type": "stream",
          "name": "stdout",
          "text": [
            "/content/drive/MyDrive\n"
          ]
        }
      ]
    },
    {
      "cell_type": "markdown",
      "source": [
        "1. **UNZIP THE FOLDER**"
      ],
      "metadata": {
        "id": "c0sJaNkdVfYF"
      }
    },
    {
      "cell_type": "code",
      "source": [
        "!unzip Flowers-Dataset.zip"
      ],
      "metadata": {
        "colab": {
          "base_uri": "https://localhost:8080/"
        },
        "id": "GbJZTCJ0FbcL",
        "outputId": "7b01a0b5-77a4-459e-fe5d-e2db0d6cb846"
      },
      "execution_count": null,
      "outputs": [
        {
          "output_type": "stream",
          "name": "stdout",
          "text": [
            "Archive:  Flowers-Dataset.zip\n",
            "replace flowers/daisy/100080576_f52e8ee070_n.jpg? [y]es, [n]o, [A]ll, [N]one, [r]ename: N\n"
          ]
        }
      ]
    },
    {
      "cell_type": "code",
      "source": [
        "ls"
      ],
      "metadata": {
        "colab": {
          "base_uri": "https://localhost:8080/"
        },
        "id": "p8tEdXHBFjFb",
        "outputId": "f5f324bd-4d6e-4e95-bfaf-c599b71884a5"
      },
      "execution_count": null,
      "outputs": [
        {
          "output_type": "stream",
          "name": "stdout",
          "text": [
            "\u001b[0m\u001b[01;34m'Colab Notebooks'\u001b[0m/   \u001b[01;34mdataset\u001b[0m/   \u001b[01;34mflowers\u001b[0m/   Flowers-Dataset.zip   flowers.h5\n"
          ]
        }
      ]
    },
    {
      "cell_type": "code",
      "source": [
        "pwd"
      ],
      "metadata": {
        "colab": {
          "base_uri": "https://localhost:8080/",
          "height": 35
        },
        "id": "ul4WcHC-Fpj5",
        "outputId": "40e07391-6d5b-46b1-fdd2-9d137ef37700"
      },
      "execution_count": null,
      "outputs": [
        {
          "output_type": "execute_result",
          "data": {
            "text/plain": [
              "'/content/drive/MyDrive'"
            ],
            "application/vnd.google.colaboratory.intrinsic+json": {
              "type": "string"
            }
          },
          "metadata": {},
          "execution_count": 15
        }
      ]
    },
    {
      "cell_type": "markdown",
      "source": [
        "**2.IMAGE AUGMENTATION**"
      ],
      "metadata": {
        "id": "OCW2B-EXFrjy"
      }
    },
    {
      "cell_type": "code",
      "source": [
        "from tensorflow.keras.preprocessing.image import ImageDataGenerator"
      ],
      "metadata": {
        "id": "X_FVchmDFqZ4"
      },
      "execution_count": null,
      "outputs": []
    },
    {
      "cell_type": "code",
      "source": [
        "train_datagen=ImageDataGenerator(rescale=1./255,zoom_range=0.2,horizontal_flip=True,vertical_flip=False)"
      ],
      "metadata": {
        "id": "KKJB2SwcFzTk"
      },
      "execution_count": null,
      "outputs": []
    },
    {
      "cell_type": "code",
      "source": [
        "test_datagen=ImageDataGenerator(rescale=1./255)"
      ],
      "metadata": {
        "id": "dvLaUV8GF2dE"
      },
      "execution_count": null,
      "outputs": []
    },
    {
      "cell_type": "code",
      "source": [
        "x_train = train_datagen.flow_from_directory(r\"/content/drive/MyDrive/dataset/Training\",target_size=(64,64),class_mode='categorical',batch_size=24)"
      ],
      "metadata": {
        "colab": {
          "base_uri": "https://localhost:8080/"
        },
        "id": "XO7VSLmtF5cL",
        "outputId": "0d16e0b3-f2dd-4616-fd81-b6a6341272cd"
      },
      "execution_count": null,
      "outputs": [
        {
          "output_type": "stream",
          "name": "stdout",
          "text": [
            "Found 4317 images belonging to 6 classes.\n"
          ]
        }
      ]
    },
    {
      "cell_type": "code",
      "source": [
        "x_test=test_datagen.flow_from_directory(r\"/content/drive/MyDrive/dataset/Testing\",target_size=(64,64),class_mode='categorical',batch_size=24)"
      ],
      "metadata": {
        "colab": {
          "base_uri": "https://localhost:8080/"
        },
        "id": "IiMONsz3F-GV",
        "outputId": "9c930fff-aed6-4089-806e-47b2470937c0"
      },
      "execution_count": null,
      "outputs": [
        {
          "output_type": "stream",
          "name": "stdout",
          "text": [
            "Found 37 images belonging to 6 classes.\n"
          ]
        }
      ]
    },
    {
      "cell_type": "code",
      "source": [
        "x_train.class_indices"
      ],
      "metadata": {
        "colab": {
          "base_uri": "https://localhost:8080/"
        },
        "id": "ejc8uAesGCtR",
        "outputId": "bd9ffa08-5571-49bf-d8fe-2ca1254d199c"
      },
      "execution_count": null,
      "outputs": [
        {
          "output_type": "execute_result",
          "data": {
            "text/plain": [
              "{'.ipynb_checkpoints': 0,\n",
              " 'daisy': 1,\n",
              " 'dandelion': 2,\n",
              " 'rose': 3,\n",
              " 'sunflower': 4,\n",
              " 'tulip': 5}"
            ]
          },
          "metadata": {},
          "execution_count": 21
        }
      ]
    },
    {
      "cell_type": "markdown",
      "source": [
        "3.**CREATE MODEL  \n",
        "4.ADD THE LAYERS**"
      ],
      "metadata": {
        "id": "SYLvmKd7GRoF"
      }
    },
    {
      "cell_type": "code",
      "source": [
        "from tensorflow.keras.models import Sequential\n",
        "from tensorflow.keras.layers import Dense,Convolution2D,MaxPooling2D,Flatten"
      ],
      "metadata": {
        "id": "FtDoU2RTGFse"
      },
      "execution_count": null,
      "outputs": []
    },
    {
      "cell_type": "code",
      "source": [
        "model=Sequential()"
      ],
      "metadata": {
        "id": "gAmMesOWGWq4"
      },
      "execution_count": null,
      "outputs": []
    },
    {
      "cell_type": "code",
      "source": [
        "model.add(Convolution2D(32,(3,3),input_shape=(64,64,3),activation='relu'))"
      ],
      "metadata": {
        "id": "fDBUDlOoGZ_V"
      },
      "execution_count": null,
      "outputs": []
    },
    {
      "cell_type": "code",
      "source": [
        "model.add(MaxPooling2D(pool_size=(2,2)))"
      ],
      "metadata": {
        "id": "YUg0PIqxGcYI"
      },
      "execution_count": null,
      "outputs": []
    },
    {
      "cell_type": "code",
      "source": [
        "model.add(Flatten())"
      ],
      "metadata": {
        "id": "6REZ_uf_Ge5v"
      },
      "execution_count": null,
      "outputs": []
    },
    {
      "cell_type": "code",
      "source": [
        "model.summary()"
      ],
      "metadata": {
        "colab": {
          "base_uri": "https://localhost:8080/"
        },
        "id": "9Kkt57LGGhTG",
        "outputId": "b92285c0-2994-4ed1-9f98-bfdfbf7259da"
      },
      "execution_count": null,
      "outputs": [
        {
          "output_type": "stream",
          "name": "stdout",
          "text": [
            "Model: \"sequential_2\"\n",
            "_________________________________________________________________\n",
            " Layer (type)                Output Shape              Param #   \n",
            "=================================================================\n",
            " conv2d_1 (Conv2D)           (None, 62, 62, 32)        896       \n",
            "                                                                 \n",
            " max_pooling2d_1 (MaxPooling  (None, 31, 31, 32)       0         \n",
            " 2D)                                                             \n",
            "                                                                 \n",
            " flatten_1 (Flatten)         (None, 30752)             0         \n",
            "                                                                 \n",
            "=================================================================\n",
            "Total params: 896\n",
            "Trainable params: 896\n",
            "Non-trainable params: 0\n",
            "_________________________________________________________________\n"
          ]
        }
      ]
    },
    {
      "cell_type": "code",
      "source": [
        "32*(3*3*3+1)\n"
      ],
      "metadata": {
        "colab": {
          "base_uri": "https://localhost:8080/"
        },
        "id": "DMhpvCZsGjlo",
        "outputId": "50a8379d-23dc-4987-e90a-73bf20f970a5"
      },
      "execution_count": null,
      "outputs": [
        {
          "output_type": "execute_result",
          "data": {
            "text/plain": [
              "896"
            ]
          },
          "metadata": {},
          "execution_count": 91
        }
      ]
    },
    {
      "cell_type": "markdown",
      "source": [
        "HIDDEN LAYERS"
      ],
      "metadata": {
        "id": "qJlEMJI5GnwD"
      }
    },
    {
      "cell_type": "code",
      "source": [
        "model.add(Dense(300,activation='relu'))\n",
        "model.add(Dense(150,activation='relu'))"
      ],
      "metadata": {
        "id": "296bgOvbGmw6"
      },
      "execution_count": null,
      "outputs": []
    },
    {
      "cell_type": "markdown",
      "source": [
        "OUTPUT LAYERS"
      ],
      "metadata": {
        "id": "wgTW_LekGv4O"
      }
    },
    {
      "cell_type": "code",
      "source": [
        "model.add(Dense(4,activation='softmax'))"
      ],
      "metadata": {
        "id": "TmGccuFRGuJo"
      },
      "execution_count": null,
      "outputs": []
    },
    {
      "cell_type": "code",
      "source": [
        "model.compile(loss='categorical_crossentropy',optimizer='adam',metrics=['accuracy'])"
      ],
      "metadata": {
        "id": "0OcS0mxxG0Ur"
      },
      "execution_count": null,
      "outputs": []
    },
    {
      "cell_type": "code",
      "source": [
        "len(x_train)"
      ],
      "metadata": {
        "colab": {
          "base_uri": "https://localhost:8080/"
        },
        "id": "hnaoczcKG3bi",
        "outputId": "64e207d2-072f-433e-f4d2-941f63326075"
      },
      "execution_count": null,
      "outputs": [
        {
          "output_type": "execute_result",
          "data": {
            "text/plain": [
              "180"
            ]
          },
          "metadata": {},
          "execution_count": 95
        }
      ]
    },
    {
      "cell_type": "code",
      "source": [
        "4317/24"
      ],
      "metadata": {
        "colab": {
          "base_uri": "https://localhost:8080/"
        },
        "id": "l-PbJLgSG53Z",
        "outputId": "62775fbd-e279-49c5-9adc-2491973aa971"
      },
      "execution_count": null,
      "outputs": [
        {
          "output_type": "execute_result",
          "data": {
            "text/plain": [
              "179.875"
            ]
          },
          "metadata": {},
          "execution_count": 96
        }
      ]
    },
    {
      "cell_type": "markdown",
      "source": [
        "5.**COMPILE THE MODEL**"
      ],
      "metadata": {
        "id": "qGZbbZ2LHLlj"
      }
    },
    {
      "cell_type": "code",
      "source": [
        "model.compile(loss=\"categorical_crossentropy\",metrics=['accuracy'],optimizer='adam')\n",
        "print(\"model is now ready to use\")\n",
        "model.summary()"
      ],
      "metadata": {
        "colab": {
          "base_uri": "https://localhost:8080/"
        },
        "id": "anFpV209G8ax",
        "outputId": "2c42140e-dc82-455c-f3eb-6b5784e0622a"
      },
      "execution_count": null,
      "outputs": [
        {
          "output_type": "stream",
          "name": "stdout",
          "text": [
            "model is now ready to use\n",
            "Model: \"sequential_2\"\n",
            "_________________________________________________________________\n",
            " Layer (type)                Output Shape              Param #   \n",
            "=================================================================\n",
            " conv2d_1 (Conv2D)           (None, 62, 62, 32)        896       \n",
            "                                                                 \n",
            " max_pooling2d_1 (MaxPooling  (None, 31, 31, 32)       0         \n",
            " 2D)                                                             \n",
            "                                                                 \n",
            " flatten_1 (Flatten)         (None, 30752)             0         \n",
            "                                                                 \n",
            " dense_6 (Dense)             (None, 300)               9225900   \n",
            "                                                                 \n",
            " dense_7 (Dense)             (None, 150)               45150     \n",
            "                                                                 \n",
            " dense_8 (Dense)             (None, 4)                 604       \n",
            "                                                                 \n",
            "=================================================================\n",
            "Total params: 9,272,550\n",
            "Trainable params: 9,272,550\n",
            "Non-trainable params: 0\n",
            "_________________________________________________________________\n"
          ]
        }
      ]
    },
    {
      "cell_type": "markdown",
      "source": [
        "6.**FIT THE MODEL**"
      ],
      "metadata": {
        "id": "miL90eWKHToi"
      }
    },
    {
      "cell_type": "code",
      "source": [
        "import numpy as np\n",
        "from sklearn.model_selection import train_test_split"
      ],
      "metadata": {
        "id": "DcMc1vCJTwsE"
      },
      "execution_count": null,
      "outputs": []
    },
    {
      "cell_type": "code",
      "source": [
        "x = np.arange(1, 25).reshape(12, 2)"
      ],
      "metadata": {
        "id": "5XHP_U6STwoV"
      },
      "execution_count": null,
      "outputs": []
    },
    {
      "cell_type": "code",
      "source": [
        " y = np.array([0, 1, 1, 0, 1, 0, 0, 1, 1, 0, 1, 0])"
      ],
      "metadata": {
        "id": "sNX42vIcTwk1"
      },
      "execution_count": null,
      "outputs": []
    },
    {
      "cell_type": "code",
      "source": [
        "x"
      ],
      "metadata": {
        "colab": {
          "base_uri": "https://localhost:8080/"
        },
        "id": "0ASHHAMiTwhV",
        "outputId": "90f92b56-90d8-4475-93cd-427e734e91ac"
      },
      "execution_count": null,
      "outputs": [
        {
          "output_type": "execute_result",
          "data": {
            "text/plain": [
              "array([[ 1,  2],\n",
              "       [ 3,  4],\n",
              "       [ 5,  6],\n",
              "       [ 7,  8],\n",
              "       [ 9, 10],\n",
              "       [11, 12],\n",
              "       [13, 14],\n",
              "       [15, 16],\n",
              "       [17, 18],\n",
              "       [19, 20],\n",
              "       [21, 22],\n",
              "       [23, 24]])"
            ]
          },
          "metadata": {},
          "execution_count": 129
        }
      ]
    },
    {
      "cell_type": "code",
      "source": [
        "y"
      ],
      "metadata": {
        "colab": {
          "base_uri": "https://localhost:8080/"
        },
        "id": "SI2NelReTwdt",
        "outputId": "b5bef1d1-b067-4a8c-d340-7fa02f4d55f8"
      },
      "execution_count": null,
      "outputs": [
        {
          "output_type": "execute_result",
          "data": {
            "text/plain": [
              "array([0, 1, 1, 0, 1, 0, 0, 1, 1, 0, 1, 0])"
            ]
          },
          "metadata": {},
          "execution_count": 130
        }
      ]
    },
    {
      "cell_type": "code",
      "source": [
        "x_train,x_test,y_train,y_test=train_test_split(x,y)"
      ],
      "metadata": {
        "id": "poSUFksfTwaR"
      },
      "execution_count": null,
      "outputs": []
    },
    {
      "cell_type": "code",
      "source": [
        "x_train"
      ],
      "metadata": {
        "colab": {
          "base_uri": "https://localhost:8080/"
        },
        "id": "GrgkY_BlTwWz",
        "outputId": "768d18a7-14c9-4446-9c0f-31bd253de3e9"
      },
      "execution_count": null,
      "outputs": [
        {
          "output_type": "execute_result",
          "data": {
            "text/plain": [
              "array([[23, 24],\n",
              "       [13, 14],\n",
              "       [17, 18],\n",
              "       [15, 16],\n",
              "       [11, 12],\n",
              "       [21, 22],\n",
              "       [ 5,  6],\n",
              "       [19, 20],\n",
              "       [ 1,  2]])"
            ]
          },
          "metadata": {},
          "execution_count": 132
        }
      ]
    },
    {
      "cell_type": "code",
      "source": [
        "y_train"
      ],
      "metadata": {
        "colab": {
          "base_uri": "https://localhost:8080/"
        },
        "id": "zPF6iGShTwTo",
        "outputId": "103b494d-eca5-4ff4-f53c-76b456592184"
      },
      "execution_count": null,
      "outputs": [
        {
          "output_type": "execute_result",
          "data": {
            "text/plain": [
              "array([0, 0, 1, 1, 0, 1, 1, 0, 0])"
            ]
          },
          "metadata": {},
          "execution_count": 133
        }
      ]
    },
    {
      "cell_type": "code",
      "source": [
        "x_test"
      ],
      "metadata": {
        "colab": {
          "base_uri": "https://localhost:8080/"
        },
        "id": "Cd3sDmBgTwQD",
        "outputId": "9b1a716a-a1b7-4d0e-9638-64130cf0e14b"
      },
      "execution_count": null,
      "outputs": [
        {
          "output_type": "execute_result",
          "data": {
            "text/plain": [
              "array([[ 9, 10],\n",
              "       [ 3,  4],\n",
              "       [ 7,  8]])"
            ]
          },
          "metadata": {},
          "execution_count": 134
        }
      ]
    },
    {
      "cell_type": "code",
      "source": [
        "y_test"
      ],
      "metadata": {
        "colab": {
          "base_uri": "https://localhost:8080/"
        },
        "id": "PmpRpKUFTwKg",
        "outputId": "ba63d078-1428-4ad1-eae4-bc55e84e1a06"
      },
      "execution_count": null,
      "outputs": [
        {
          "output_type": "execute_result",
          "data": {
            "text/plain": [
              "array([1, 1, 0])"
            ]
          },
          "metadata": {},
          "execution_count": 135
        }
      ]
    },
    {
      "cell_type": "code",
      "source": [
        "x_train, x_test, y_train, y_test = train_test_split(x, y, test_size=4, random_state=4)"
      ],
      "metadata": {
        "id": "dZ1xHPe7UWLx"
      },
      "execution_count": null,
      "outputs": []
    },
    {
      "cell_type": "code",
      "source": [
        "x_train"
      ],
      "metadata": {
        "colab": {
          "base_uri": "https://localhost:8080/"
        },
        "id": "kPbqbyXAUWIG",
        "outputId": "5321e65b-13c6-4d40-d942-f0f0abf624eb"
      },
      "execution_count": null,
      "outputs": [
        {
          "output_type": "execute_result",
          "data": {
            "text/plain": [
              "array([[17, 18],\n",
              "       [ 5,  6],\n",
              "       [23, 24],\n",
              "       [ 1,  2],\n",
              "       [ 3,  4],\n",
              "       [11, 12],\n",
              "       [15, 16],\n",
              "       [21, 22]])"
            ]
          },
          "metadata": {},
          "execution_count": 137
        }
      ]
    },
    {
      "cell_type": "code",
      "source": [
        "x_test"
      ],
      "metadata": {
        "colab": {
          "base_uri": "https://localhost:8080/"
        },
        "id": "U-QDSTDDUWD3",
        "outputId": "cefb2a47-1521-40b7-e531-b5313bc40cbd"
      },
      "execution_count": null,
      "outputs": [
        {
          "output_type": "execute_result",
          "data": {
            "text/plain": [
              "array([[ 7,  8],\n",
              "       [ 9, 10],\n",
              "       [13, 14],\n",
              "       [19, 20]])"
            ]
          },
          "metadata": {},
          "execution_count": 138
        }
      ]
    },
    {
      "cell_type": "code",
      "source": [
        "y_train"
      ],
      "metadata": {
        "colab": {
          "base_uri": "https://localhost:8080/"
        },
        "id": "7UotV7QaUV-a",
        "outputId": "e684ecd1-07a7-4f31-e0fb-8825b52a6479"
      },
      "execution_count": null,
      "outputs": [
        {
          "output_type": "execute_result",
          "data": {
            "text/plain": [
              "array([1, 1, 0, 0, 1, 0, 1, 1])"
            ]
          },
          "metadata": {},
          "execution_count": 139
        }
      ]
    },
    {
      "cell_type": "code",
      "source": [
        "y_test"
      ],
      "metadata": {
        "colab": {
          "base_uri": "https://localhost:8080/"
        },
        "id": "8UjOnqXWUV43",
        "outputId": "ff15c783-d3f4-4877-d3f9-06aa320b78dc"
      },
      "execution_count": null,
      "outputs": [
        {
          "output_type": "execute_result",
          "data": {
            "text/plain": [
              "array([0, 1, 0, 0])"
            ]
          },
          "metadata": {},
          "execution_count": 140
        }
      ]
    },
    {
      "cell_type": "code",
      "source": [
        "x_train, x_test, y_train, y_test = train_test_split(x, y, test_size=0.33, random_state=4, stratify=y)"
      ],
      "metadata": {
        "id": "NdawxUchUVzH"
      },
      "execution_count": null,
      "outputs": []
    },
    {
      "cell_type": "code",
      "source": [
        "x_train"
      ],
      "metadata": {
        "colab": {
          "base_uri": "https://localhost:8080/"
        },
        "id": "BrAeUPOlUVvu",
        "outputId": "64993218-6fa5-4320-892c-6d974c8d2ed8"
      },
      "execution_count": null,
      "outputs": [
        {
          "output_type": "execute_result",
          "data": {
            "text/plain": [
              "array([[21, 22],\n",
              "       [ 1,  2],\n",
              "       [15, 16],\n",
              "       [13, 14],\n",
              "       [17, 18],\n",
              "       [19, 20],\n",
              "       [23, 24],\n",
              "       [ 3,  4]])"
            ]
          },
          "metadata": {},
          "execution_count": 142
        }
      ]
    },
    {
      "cell_type": "code",
      "source": [
        "x_test"
      ],
      "metadata": {
        "colab": {
          "base_uri": "https://localhost:8080/"
        },
        "id": "AuML2FEGUVsD",
        "outputId": "3a4136dd-9239-4196-9ec4-8f1477ae5330"
      },
      "execution_count": null,
      "outputs": [
        {
          "output_type": "execute_result",
          "data": {
            "text/plain": [
              "array([[11, 12],\n",
              "       [ 7,  8],\n",
              "       [ 5,  6],\n",
              "       [ 9, 10]])"
            ]
          },
          "metadata": {},
          "execution_count": 143
        }
      ]
    },
    {
      "cell_type": "code",
      "source": [
        "y_train"
      ],
      "metadata": {
        "colab": {
          "base_uri": "https://localhost:8080/"
        },
        "id": "BgS9mnTrUptf",
        "outputId": "127f1e53-65ab-4f06-c315-3cb4f534dc41"
      },
      "execution_count": null,
      "outputs": [
        {
          "output_type": "execute_result",
          "data": {
            "text/plain": [
              "array([1, 0, 1, 0, 1, 0, 0, 1])"
            ]
          },
          "metadata": {},
          "execution_count": 144
        }
      ]
    },
    {
      "cell_type": "code",
      "source": [
        "y_test"
      ],
      "metadata": {
        "colab": {
          "base_uri": "https://localhost:8080/"
        },
        "id": "SzgwqlyjUppJ",
        "outputId": "256e55a7-5802-4c85-d186-435f5d101174"
      },
      "execution_count": null,
      "outputs": [
        {
          "output_type": "execute_result",
          "data": {
            "text/plain": [
              "array([0, 0, 1, 1])"
            ]
          },
          "metadata": {},
          "execution_count": 146
        }
      ]
    },
    {
      "cell_type": "code",
      "source": [
        "x_train, x_test, y_train, y_test = train_test_split(x, y, test_size=0.33, shuffle=False)"
      ],
      "metadata": {
        "id": "hxGeY0S4Upld"
      },
      "execution_count": null,
      "outputs": []
    },
    {
      "cell_type": "code",
      "source": [
        "x_train"
      ],
      "metadata": {
        "colab": {
          "base_uri": "https://localhost:8080/"
        },
        "id": "-KBtZKJHUph0",
        "outputId": "1282aa3e-b6ee-4c83-81e8-a8e4b78ad81b"
      },
      "execution_count": null,
      "outputs": [
        {
          "output_type": "execute_result",
          "data": {
            "text/plain": [
              "array([[ 1,  2],\n",
              "       [ 3,  4],\n",
              "       [ 5,  6],\n",
              "       [ 7,  8],\n",
              "       [ 9, 10],\n",
              "       [11, 12],\n",
              "       [13, 14],\n",
              "       [15, 16]])"
            ]
          },
          "metadata": {},
          "execution_count": 148
        }
      ]
    },
    {
      "cell_type": "code",
      "source": [
        "x_test"
      ],
      "metadata": {
        "colab": {
          "base_uri": "https://localhost:8080/"
        },
        "id": "_bSGiI7VUpeC",
        "outputId": "f7c7f810-c9b4-4c78-a10f-b08013a06858"
      },
      "execution_count": null,
      "outputs": [
        {
          "output_type": "execute_result",
          "data": {
            "text/plain": [
              "array([[17, 18],\n",
              "       [19, 20],\n",
              "       [21, 22],\n",
              "       [23, 24]])"
            ]
          },
          "metadata": {},
          "execution_count": 149
        }
      ]
    },
    {
      "cell_type": "code",
      "source": [
        "y_train"
      ],
      "metadata": {
        "colab": {
          "base_uri": "https://localhost:8080/"
        },
        "id": "R8u7NfpLU6V0",
        "outputId": "a2dc1c7d-ca5c-4611-dcc4-1946a7e48886"
      },
      "execution_count": null,
      "outputs": [
        {
          "output_type": "execute_result",
          "data": {
            "text/plain": [
              "array([0, 1, 1, 0, 1, 0, 0, 1])"
            ]
          },
          "metadata": {},
          "execution_count": 150
        }
      ]
    },
    {
      "cell_type": "code",
      "source": [
        "y_test"
      ],
      "metadata": {
        "colab": {
          "base_uri": "https://localhost:8080/"
        },
        "id": "Yt6rKyKXU6R6",
        "outputId": "723dc182-c8bf-49b5-dd89-fddab82249c9"
      },
      "execution_count": null,
      "outputs": [
        {
          "output_type": "execute_result",
          "data": {
            "text/plain": [
              "array([1, 0, 1, 0])"
            ]
          },
          "metadata": {},
          "execution_count": 151
        }
      ]
    },
    {
      "cell_type": "code",
      "source": [
        "import numpy as np\n",
        "from sklearn.linear_model import LinearRegression\n",
        "from sklearn.model_selection import train_test_split"
      ],
      "metadata": {
        "id": "1Op96XHfU6OX"
      },
      "execution_count": null,
      "outputs": []
    },
    {
      "cell_type": "code",
      "source": [
        "x = np.arange(20).reshape(-1, 1)\n",
        "y = np.array([5, 12, 11, 19, 30, 29, 23, 40, 51, 54, 74,62, 68, 73, 89, 84, 89, 101, 99, 106])"
      ],
      "metadata": {
        "id": "AjOPZIqIU6Ku"
      },
      "execution_count": null,
      "outputs": []
    },
    {
      "cell_type": "code",
      "source": [
        "x"
      ],
      "metadata": {
        "colab": {
          "base_uri": "https://localhost:8080/"
        },
        "id": "XjFS8b2wU6D5",
        "outputId": "eebbce76-5b96-42d7-cc37-66b8776b7737"
      },
      "execution_count": null,
      "outputs": [
        {
          "output_type": "execute_result",
          "data": {
            "text/plain": [
              "array([[ 0],\n",
              "       [ 1],\n",
              "       [ 2],\n",
              "       [ 3],\n",
              "       [ 4],\n",
              "       [ 5],\n",
              "       [ 6],\n",
              "       [ 7],\n",
              "       [ 8],\n",
              "       [ 9],\n",
              "       [10],\n",
              "       [11],\n",
              "       [12],\n",
              "       [13],\n",
              "       [14],\n",
              "       [15],\n",
              "       [16],\n",
              "       [17],\n",
              "       [18],\n",
              "       [19]])"
            ]
          },
          "metadata": {},
          "execution_count": 154
        }
      ]
    },
    {
      "cell_type": "code",
      "source": [
        "y"
      ],
      "metadata": {
        "colab": {
          "base_uri": "https://localhost:8080/"
        },
        "id": "kmEqhRr5U59q",
        "outputId": "f64884bb-fe4f-4b92-f1bb-ac06c41bb757"
      },
      "execution_count": null,
      "outputs": [
        {
          "output_type": "execute_result",
          "data": {
            "text/plain": [
              "array([  5,  12,  11,  19,  30,  29,  23,  40,  51,  54,  74,  62,  68,\n",
              "        73,  89,  84,  89, 101,  99, 106])"
            ]
          },
          "metadata": {},
          "execution_count": 155
        }
      ]
    },
    {
      "cell_type": "code",
      "source": [
        " x_train, x_test, y_train, y_test = train_test_split( x, y, test_size=8, random_state=0)"
      ],
      "metadata": {
        "id": "54w1i_GEVLlr"
      },
      "execution_count": null,
      "outputs": []
    },
    {
      "cell_type": "code",
      "source": [
        "model = LinearRegression().fit(x_train, y_train)"
      ],
      "metadata": {
        "id": "PSC5fzdCVLiB"
      },
      "execution_count": null,
      "outputs": []
    },
    {
      "cell_type": "code",
      "source": [
        "model.intercept_"
      ],
      "metadata": {
        "colab": {
          "base_uri": "https://localhost:8080/"
        },
        "id": "vVm7N7jAVLeM",
        "outputId": "46e22ea7-396e-4aad-86eb-e23de5abfee9"
      },
      "execution_count": null,
      "outputs": [
        {
          "output_type": "execute_result",
          "data": {
            "text/plain": [
              "3.1617195496417523"
            ]
          },
          "metadata": {},
          "execution_count": 158
        }
      ]
    },
    {
      "cell_type": "code",
      "source": [
        "model.coef_"
      ],
      "metadata": {
        "colab": {
          "base_uri": "https://localhost:8080/"
        },
        "id": "uSS-9wi5VLaY",
        "outputId": "621ca3f0-c14a-43d1-f38b-9de7d9776af0"
      },
      "execution_count": null,
      "outputs": [
        {
          "output_type": "execute_result",
          "data": {
            "text/plain": [
              "array([5.53121801])"
            ]
          },
          "metadata": {},
          "execution_count": 159
        }
      ]
    },
    {
      "cell_type": "code",
      "source": [
        "model.score(x_train, y_train)"
      ],
      "metadata": {
        "colab": {
          "base_uri": "https://localhost:8080/"
        },
        "id": "sXqydctqVLWp",
        "outputId": "0bd7e64f-a05e-4669-9570-e82154f76301"
      },
      "execution_count": null,
      "outputs": [
        {
          "output_type": "execute_result",
          "data": {
            "text/plain": [
              "0.9868175024574795"
            ]
          },
          "metadata": {},
          "execution_count": 160
        }
      ]
    },
    {
      "cell_type": "code",
      "source": [
        "model.score(x_test, y_test)"
      ],
      "metadata": {
        "colab": {
          "base_uri": "https://localhost:8080/"
        },
        "id": "q8Shr52gVLRT",
        "outputId": "35eca833-8b5e-4974-f61e-c1ccb5f8f50c"
      },
      "execution_count": null,
      "outputs": [
        {
          "output_type": "execute_result",
          "data": {
            "text/plain": [
              "0.9465896927715023"
            ]
          },
          "metadata": {},
          "execution_count": 161
        }
      ]
    },
    {
      "cell_type": "code",
      "source": [
        "from keras.models import Sequential\n",
        "from keras.layers import Dense\n",
        "from sklearn.datasets import make_blobs\n",
        "from sklearn.preprocessing import MinMaxScaler\n",
        "# generate 2d classification dataset\n",
        "x, y = make_blobs(n_samples=100, centers=2, n_features=2, random_state=1)\n",
        "scalar = MinMaxScaler()\n",
        "scalar.fit(x)\n",
        "x = scalar.transform(x)\n",
        "# define and fit the final model\n",
        "model = Sequential()\n",
        "model.add(Dense(4, input_shape=(2,), activation='relu'))\n",
        "model.add(Dense(4, activation='relu'))\n",
        "model.add(Dense(1, activation='sigmoid'))\n",
        "model.compile(loss='binary_crossentropy', optimizer='adam')\n",
        "model.fit(x, y, epochs=10, verbose=5)"
      ],
      "metadata": {
        "colab": {
          "base_uri": "https://localhost:8080/"
        },
        "id": "p3IjJgr_Tojg",
        "outputId": "a8a40fe8-8313-4ae9-8396-459fe03ac8b0"
      },
      "execution_count": null,
      "outputs": [
        {
          "output_type": "stream",
          "name": "stdout",
          "text": [
            "Epoch 1/10\n",
            "Epoch 2/10\n",
            "Epoch 3/10\n",
            "Epoch 4/10\n",
            "Epoch 5/10\n",
            "Epoch 6/10\n",
            "Epoch 7/10\n",
            "Epoch 8/10\n",
            "Epoch 9/10\n",
            "Epoch 10/10\n"
          ]
        },
        {
          "output_type": "execute_result",
          "data": {
            "text/plain": [
              "<keras.callbacks.History at 0x7f98948c7090>"
            ]
          },
          "metadata": {},
          "execution_count": 125
        }
      ]
    },
    {
      "cell_type": "markdown",
      "source": [
        "7.**SAVE THE MODEL**"
      ],
      "metadata": {
        "id": "f8wX8C32HiHM"
      }
    },
    {
      "cell_type": "code",
      "source": [
        "ls"
      ],
      "metadata": {
        "colab": {
          "base_uri": "https://localhost:8080/"
        },
        "id": "8dV82uEzHdnl",
        "outputId": "1f871039-1d29-44ae-b2ab-b837961b5fd2"
      },
      "execution_count": null,
      "outputs": [
        {
          "output_type": "stream",
          "name": "stdout",
          "text": [
            "\u001b[0m\u001b[01;34m'Colab Notebooks'\u001b[0m/   \u001b[01;34mdataset\u001b[0m/   \u001b[01;34mflowers\u001b[0m/   Flowers-Dataset.zip   flowers.h5\n"
          ]
        }
      ]
    },
    {
      "cell_type": "code",
      "source": [
        "model.save('flowers.h5')"
      ],
      "metadata": {
        "id": "9d258TTSHoQn"
      },
      "execution_count": null,
      "outputs": []
    },
    {
      "cell_type": "code",
      "source": [
        "ls"
      ],
      "metadata": {
        "colab": {
          "base_uri": "https://localhost:8080/"
        },
        "id": "G2cG9OWxHrTK",
        "outputId": "36dda65c-be83-46ed-aba5-293d0f9179e6"
      },
      "execution_count": null,
      "outputs": [
        {
          "output_type": "stream",
          "name": "stdout",
          "text": [
            "\u001b[0m\u001b[01;34m'Colab Notebooks'\u001b[0m/   \u001b[01;34mdataset\u001b[0m/   \u001b[01;34mflowers\u001b[0m/   Flowers-Dataset.zip   flowers.h5\n"
          ]
        }
      ]
    },
    {
      "cell_type": "markdown",
      "source": [
        "8.**TEST THE MODEL**"
      ],
      "metadata": {
        "id": "HTqycs57HzlC"
      }
    },
    {
      "cell_type": "code",
      "source": [
        "import numpy as np\n",
        "from tensorflow.keras.models import load_model\n",
        "from tensorflow.keras.preprocessing import image"
      ],
      "metadata": {
        "id": "CdPsdgeOHsUI"
      },
      "execution_count": null,
      "outputs": []
    },
    {
      "cell_type": "code",
      "source": [
        "model=load_model('flowers.h5')"
      ],
      "metadata": {
        "id": "sxXJnrMnH413"
      },
      "execution_count": null,
      "outputs": []
    },
    {
      "cell_type": "code",
      "source": [
        "img=image.load_img(r\"/content/drive/MyDrive/dataset/Testing/rose/388405293_4db1d71f21_n.jpg\")"
      ],
      "metadata": {
        "id": "44a2AUq1H8is"
      },
      "execution_count": null,
      "outputs": []
    },
    {
      "cell_type": "code",
      "source": [
        "img"
      ],
      "metadata": {
        "colab": {
          "base_uri": "https://localhost:8080/",
          "height": 257
        },
        "id": "HjJyGO_lH_D4",
        "outputId": "ba9b7ab9-0ad1-42c4-c260-15217486fa2d"
      },
      "execution_count": null,
      "outputs": [
        {
          "output_type": "execute_result",
          "data": {
            "text/plain": [
              "<PIL.JpegImagePlugin.JpegImageFile image mode=RGB size=320x240 at 0x7F989487E950>"
            ],
            "image/png": "[encoded data removed]"
          },
          "metadata": {},
          "execution_count": 117
        }
      ]
    },
    {
      "cell_type": "code",
      "source": [
        "img=image.load_img(r\"/content/drive/MyDrive/dataset/Testing/rose/388405293_4db1d71f21_n.jpg\",target_size=(64,64))\n",
        "img"
      ],
      "metadata": {
        "colab": {
          "base_uri": "https://localhost:8080/",
          "height": 81
        },
        "id": "NWb4o1nlIBHD",
        "outputId": "05bcfd32-59ad-47e7-bb14-980ed85b82de"
      },
      "execution_count": null,
      "outputs": [
        {
          "output_type": "execute_result",
          "data": {
            "text/plain": [
              "<PIL.Image.Image image mode=RGB size=64x64 at 0x7F989486EB10>"
            ],
            "image/png": "[encoded data removed]"
          },
          "metadata": {},
          "execution_count": 118
        }
      ]
    },
    {
      "cell_type": "code",
      "source": [
        "x=image.img_to_array(img)"
      ],
      "metadata": {
        "id": "rSFMIReCIEMh"
      },
      "execution_count": null,
      "outputs": []
    },
    {
      "cell_type": "code",
      "source": [
        "x"
      ],
      "metadata": {
        "colab": {
          "base_uri": "https://localhost:8080/"
        },
        "id": "DSNJH4i8IGoz",
        "outputId": "acfe7f2c-87c7-4c4f-d887-b341f64eb7f4"
      },
      "execution_count": null,
      "outputs": [
        {
          "output_type": "execute_result",
          "data": {
            "text/plain": [
              "array([[[255., 209.,   1.],\n",
              "        [249., 202.,   2.],\n",
              "        [200., 166.,  32.],\n",
              "        ...,\n",
              "        [255., 228.,   1.],\n",
              "        [255., 239.,   3.],\n",
              "        [255., 233.,   0.]],\n",
              "\n",
              "       [[255., 213.,   4.],\n",
              "        [255., 209.,   1.],\n",
              "        [231., 190.,  10.],\n",
              "        ...,\n",
              "        [255., 233.,   2.],\n",
              "        [255., 237.,   3.],\n",
              "        [255., 234.,   0.]],\n",
              "\n",
              "       [[254., 219.,  15.],\n",
              "        [255., 211.,   0.],\n",
              "        [255., 207.,   3.],\n",
              "        ...,\n",
              "        [254., 237.,   1.],\n",
              "        [253., 228.,   1.],\n",
              "        [255., 238.,   2.]],\n",
              "\n",
              "       ...,\n",
              "\n",
              "       [[255., 200.,   1.],\n",
              "        [254., 201.,   1.],\n",
              "        [254., 201.,   1.],\n",
              "        ...,\n",
              "        [254., 237.,   1.],\n",
              "        [255., 240.,  49.],\n",
              "        [254., 247.,  79.]],\n",
              "\n",
              "       [[254., 208.,   0.],\n",
              "        [254., 206.,   0.],\n",
              "        [254., 206.,   0.],\n",
              "        ...,\n",
              "        [253., 241.,   0.],\n",
              "        [255., 254.,  84.],\n",
              "        [255., 254., 101.]],\n",
              "\n",
              "       [[255., 216.,   1.],\n",
              "        [255., 214.,   2.],\n",
              "        [255., 211.,   2.],\n",
              "        ...,\n",
              "        [255., 226.,   0.],\n",
              "        [255., 230.,   0.],\n",
              "        [252., 243.,  50.]]], dtype=float32)"
            ]
          },
          "metadata": {},
          "execution_count": 107
        }
      ]
    },
    {
      "cell_type": "code",
      "source": [
        "x=np.expand_dims(x,axis=0)"
      ],
      "metadata": {
        "id": "fr2FdcuFIHaq"
      },
      "execution_count": null,
      "outputs": []
    },
    {
      "cell_type": "code",
      "source": [
        "x"
      ],
      "metadata": {
        "colab": {
          "base_uri": "https://localhost:8080/"
        },
        "id": "fNlN8RK0ILM8",
        "outputId": "bc0d9651-ff50-4aee-f870-8cd5cf80efb8"
      },
      "execution_count": null,
      "outputs": [
        {
          "output_type": "execute_result",
          "data": {
            "text/plain": [
              "array([[[[255., 209.,   1.],\n",
              "         [249., 202.,   2.],\n",
              "         [200., 166.,  32.],\n",
              "         ...,\n",
              "         [255., 228.,   1.],\n",
              "         [255., 239.,   3.],\n",
              "         [255., 233.,   0.]],\n",
              "\n",
              "        [[255., 213.,   4.],\n",
              "         [255., 209.,   1.],\n",
              "         [231., 190.,  10.],\n",
              "         ...,\n",
              "         [255., 233.,   2.],\n",
              "         [255., 237.,   3.],\n",
              "         [255., 234.,   0.]],\n",
              "\n",
              "        [[254., 219.,  15.],\n",
              "         [255., 211.,   0.],\n",
              "         [255., 207.,   3.],\n",
              "         ...,\n",
              "         [254., 237.,   1.],\n",
              "         [253., 228.,   1.],\n",
              "         [255., 238.,   2.]],\n",
              "\n",
              "        ...,\n",
              "\n",
              "        [[255., 200.,   1.],\n",
              "         [254., 201.,   1.],\n",
              "         [254., 201.,   1.],\n",
              "         ...,\n",
              "         [254., 237.,   1.],\n",
              "         [255., 240.,  49.],\n",
              "         [254., 247.,  79.]],\n",
              "\n",
              "        [[254., 208.,   0.],\n",
              "         [254., 206.,   0.],\n",
              "         [254., 206.,   0.],\n",
              "         ...,\n",
              "         [253., 241.,   0.],\n",
              "         [255., 254.,  84.],\n",
              "         [255., 254., 101.]],\n",
              "\n",
              "        [[255., 216.,   1.],\n",
              "         [255., 214.,   2.],\n",
              "         [255., 211.,   2.],\n",
              "         ...,\n",
              "         [255., 226.,   0.],\n",
              "         [255., 230.,   0.],\n",
              "         [252., 243.,  50.]]]], dtype=float32)"
            ]
          },
          "metadata": {},
          "execution_count": 109
        }
      ]
    },
    {
      "cell_type": "code",
      "source": [
        "y=np.argmax(model.predict(x),axis=1)"
      ],
      "metadata": {
        "id": "sGHfs62SIMrE"
      },
      "execution_count": null,
      "outputs": []
    },
    {
      "cell_type": "code",
      "source": [
        "y"
      ],
      "metadata": {
        "colab": {
          "base_uri": "https://localhost:8080/"
        },
        "id": "nxHYpESgIPWa",
        "outputId": "b5875caf-0025-4560-9ebf-2902f5ddc9b7"
      },
      "execution_count": null,
      "outputs": [
        {
          "output_type": "execute_result",
          "data": {
            "text/plain": [
              "array([2])"
            ]
          },
          "metadata": {},
          "execution_count": 112
        }
      ]
    },
    {
      "cell_type": "code",
      "source": [
        "x_train.class_indices"
      ],
      "metadata": {
        "colab": {
          "base_uri": "https://localhost:8080/"
        },
        "id": "N0c6PZr5SMhw",
        "outputId": "8abca4e2-6a07-4688-c8d2-8326b041195b"
      },
      "execution_count": null,
      "outputs": [
        {
          "output_type": "execute_result",
          "data": {
            "text/plain": [
              "{'.ipynb_checkpoints': 0,\n",
              " 'daisy': 1,\n",
              " 'dandelion': 2,\n",
              " 'rose': 3,\n",
              " 'sunflower': 4,\n",
              " 'tulip': 5}"
            ]
          },
          "metadata": {},
          "execution_count": 113
        }
      ]
    },
    {
      "cell_type": "code",
      "source": [
        "index=['daisy','dandelion','rose','sunflower','tulip']"
      ],
      "metadata": {
        "id": "lvZ15s81SPdD"
      },
      "execution_count": null,
      "outputs": []
    },
    {
      "cell_type": "code",
      "source": [
        "index [y[0]]"
      ],
      "metadata": {
        "colab": {
          "base_uri": "https://localhost:8080/",
          "height": 35
        },
        "id": "44F5P_c-SSx4",
        "outputId": "8f712091-c893-4fac-da85-c938e09618f1"
      },
      "execution_count": null,
      "outputs": [
        {
          "output_type": "execute_result",
          "data": {
            "text/plain": [
              "'rose'"
            ],
            "application/vnd.google.colaboratory.intrinsic+json": {
              "type": "string"
            }
          },
          "metadata": {},
          "execution_count": 115
        }
      ]
    },
    {
      "cell_type": "code",
      "source": [
        "img=image.load_img(r\"/content/drive/MyDrive/dataset/Testing/rose/145862135_ab710de93c_n.jpg\",target_size=(64,64))\n",
        "x=image.img_to_array(img)\n",
        "x=np.expand_dims(x,axis=0)\n",
        "y=np.argmax(model.predict(x),axis=1)\n",
        "index=['daisy','dandelion','rose','sunflower','tulip']\n",
        "index[y[0]]"
      ],
      "metadata": {
        "colab": {
          "base_uri": "https://localhost:8080/",
          "height": 35
        },
        "id": "ScF3N_qESWPQ",
        "outputId": "9c651161-c985-4f69-ba2b-43a9f8584b94"
      },
      "execution_count": null,
      "outputs": [
        {
          "output_type": "execute_result",
          "data": {
            "text/plain": [
              "'rose'"
            ],
            "application/vnd.google.colaboratory.intrinsic+json": {
              "type": "string"
            }
          },
          "metadata": {},
          "execution_count": 119
        }
      ]
    }
  ]
}